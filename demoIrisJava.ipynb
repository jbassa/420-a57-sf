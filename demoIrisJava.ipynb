{
 "cells": [
  {
   "cell_type": "markdown",
   "metadata": {},
   "source": [
    "# Exemple d'apprentissage supervisé en  Java (SparkMLlib) - cegep stefoy"
   ]
  },
  {
   "cell_type": "markdown",
   "metadata": {},
   "source": [
    "### Téléchargement des librairies avec Maven"
   ]
  },
  {
   "cell_type": "code",
   "execution_count": 1,
   "metadata": {},
   "outputs": [],
   "source": [
    "%%loadFromPOM\n",
    "<dependencies>\n",
    "        <dependency>\n",
    "            <groupId>org.apache.spark</groupId>\n",
    "            <artifactId>spark-mllib_2.11</artifactId>\n",
    "            <version>2.2.0</version>\n",
    "        </dependency>\n",
    "</dependencies>"
   ]
  },
  {
   "cell_type": "markdown",
   "metadata": {},
   "source": [
    "### Désactivation des logs verbeux"
   ]
  },
  {
   "cell_type": "code",
   "execution_count": 2,
   "metadata": {},
   "outputs": [],
   "source": [
    "import org.apache.log4j.Level;\n",
    "import org.apache.log4j.Logger;\n",
    "\n",
    "Logger.getLogger(\"org\").setLevel(Level.OFF);\n",
    "Logger.getLogger(\"akka\").setLevel(Level.OFF);"
   ]
  },
  {
   "cell_type": "markdown",
   "metadata": {},
   "source": [
    "### Initialisation de la session spark"
   ]
  },
  {
   "cell_type": "code",
   "execution_count": 3,
   "metadata": {},
   "outputs": [
    {
     "name": "stderr",
     "output_type": "stream",
     "text": [
      "Using Spark's default log4j profile: org/apache/spark/log4j-defaults.properties\n"
     ]
    }
   ],
   "source": [
    "import org.apache.spark.sql.SparkSession;\n",
    "SparkSession sparkSession = SparkSession.builder().appName(\"SparkIris\").config(\"spark.master\", \"local\").getOrCreate();"
   ]
  },
  {
   "cell_type": "markdown",
   "metadata": {},
   "source": [
    "### Chargement du jeu de données (Iris)"
   ]
  },
  {
   "cell_type": "code",
   "execution_count": 4,
   "metadata": {},
   "outputs": [],
   "source": [
    "import org.apache.spark.sql.Dataset;\n",
    "import org.apache.spark.sql.Row;\n",
    "Dataset<Row> rawData = sparkSession.read().option(\"header\", \"true\").csv(\"Iris.csv\");"
   ]
  },
  {
   "cell_type": "markdown",
   "metadata": {},
   "source": [
    "### Quelques lignes du jeu de données"
   ]
  },
  {
   "cell_type": "code",
   "execution_count": 5,
   "metadata": {},
   "outputs": [
    {
     "name": "stdout",
     "output_type": "stream",
     "text": [
      "+---+-------------+------------+-------------+------------+-----------+\n",
      "| Id|SepalLengthCm|SepalWidthCm|PetalLengthCm|PetalWidthCm|    Species|\n",
      "+---+-------------+------------+-------------+------------+-----------+\n",
      "|  1|          5.1|         3.5|          1.4|         0.2|Iris-setosa|\n",
      "|  2|          4.9|         3.0|          1.4|         0.2|Iris-setosa|\n",
      "|  3|          4.7|         3.2|          1.3|         0.2|Iris-setosa|\n",
      "|  4|          4.6|         3.1|          1.5|         0.2|Iris-setosa|\n",
      "|  5|          5.0|         3.6|          1.4|         0.2|Iris-setosa|\n",
      "+---+-------------+------------+-------------+------------+-----------+\n",
      "only showing top 5 rows\n",
      "\n"
     ]
    }
   ],
   "source": [
    "rawData.show(5)"
   ]
  },
  {
   "cell_type": "markdown",
   "metadata": {},
   "source": [
    "### Type des données"
   ]
  },
  {
   "cell_type": "code",
   "execution_count": 6,
   "metadata": {},
   "outputs": [
    {
     "name": "stdout",
     "output_type": "stream",
     "text": [
      "root\n",
      " |-- Id: string (nullable = true)\n",
      " |-- SepalLengthCm: string (nullable = true)\n",
      " |-- SepalWidthCm: string (nullable = true)\n",
      " |-- PetalLengthCm: string (nullable = true)\n",
      " |-- PetalWidthCm: string (nullable = true)\n",
      " |-- Species: string (nullable = true)\n",
      "\n"
     ]
    }
   ],
   "source": [
    "rawData.printSchema();"
   ]
  },
  {
   "cell_type": "markdown",
   "metadata": {},
   "source": [
    "### ajustement des types des colonnes"
   ]
  },
  {
   "cell_type": "code",
   "execution_count": 7,
   "metadata": {
    "scrolled": true
   },
   "outputs": [],
   "source": [
    "import static org.apache.spark.sql.functions.col;\n",
    "import static org.apache.spark.sql.types.DataTypes.DoubleType;\n",
    "\n",
    "// cast the values of the features to doubles for usage in the feature column vector\n",
    "Dataset<Row> transformedDataSet = rawData.withColumn(\"SepalLengthCm\", rawData.col(\"SepalLengthCm\").cast(\"double\"))\n",
    "                .withColumn(\"SepalWidthCm\", rawData.col(\"SepalWidthCm\").cast(\"double\"))\n",
    "                .withColumn(\"PetalLengthCm\", rawData.col(\"PetalLengthCm\").cast(\"double\"))\n",
    "                .withColumn(\"PetalWidthCm\", rawData.col(\"PetalWidthCm\").cast(\"double\"));"
   ]
  },
  {
   "cell_type": "code",
   "execution_count": 8,
   "metadata": {},
   "outputs": [
    {
     "name": "stdout",
     "output_type": "stream",
     "text": [
      "root\n",
      " |-- Id: string (nullable = true)\n",
      " |-- SepalLengthCm: double (nullable = true)\n",
      " |-- SepalWidthCm: double (nullable = true)\n",
      " |-- PetalLengthCm: double (nullable = true)\n",
      " |-- PetalWidthCm: double (nullable = true)\n",
      " |-- Species: string (nullable = true)\n",
      "\n"
     ]
    }
   ],
   "source": [
    "transformedDataSet.printSchema();"
   ]
  },
  {
   "cell_type": "markdown",
   "metadata": {},
   "source": [
    "### Mapping de la variable de la variable de dépendante avec les valeurs numeriques"
   ]
  },
  {
   "cell_type": "code",
   "execution_count": 9,
   "metadata": {},
   "outputs": [],
   "source": [
    "import static org.apache.spark.sql.functions.when;\n",
    "// add a numerical label column for the Random Forest Classifier\n",
    "transformedDataSet = transformedDataSet\n",
    "                .withColumn(\"label\", when(col(\"Species\").equalTo(\"Iris-setosa\"),1)\n",
    "                .when(col(\"Species\").equalTo(\"Iris-versicolor\"),2)\n",
    "                .otherwise(3));"
   ]
  },
  {
   "cell_type": "code",
   "execution_count": 11,
   "metadata": {},
   "outputs": [
    {
     "name": "stdout",
     "output_type": "stream",
     "text": [
      "+---+-------------+------------+-------------+------------+---------------+-----+\n",
      "| Id|SepalLengthCm|SepalWidthCm|PetalLengthCm|PetalWidthCm|        Species|label|\n",
      "+---+-------------+------------+-------------+------------+---------------+-----+\n",
      "|  5|          5.0|         3.6|          1.4|         0.2|    Iris-setosa|    1|\n",
      "|  7|          4.6|         3.4|          1.4|         0.3|    Iris-setosa|    1|\n",
      "| 12|          4.8|         3.4|          1.6|         0.2|    Iris-setosa|    1|\n",
      "| 14|          4.3|         3.0|          1.1|         0.1|    Iris-setosa|    1|\n",
      "| 27|          5.0|         3.4|          1.6|         0.4|    Iris-setosa|    1|\n",
      "| 28|          5.2|         3.5|          1.5|         0.2|    Iris-setosa|    1|\n",
      "| 33|          5.2|         4.1|          1.5|         0.1|    Iris-setosa|    1|\n",
      "| 60|          5.2|         2.7|          3.9|         1.4|Iris-versicolor|    2|\n",
      "| 90|          5.5|         2.5|          4.0|         1.3|Iris-versicolor|    2|\n",
      "|136|          7.7|         3.0|          6.1|         2.3| Iris-virginica|    3|\n",
      "+---+-------------+------------+-------------+------------+---------------+-----+\n",
      "\n"
     ]
    }
   ],
   "source": [
    "transformedDataSet.sample(true,0.05).show()"
   ]
  },
  {
   "cell_type": "markdown",
   "metadata": {},
   "source": [
    "### Choix des variables discriminantes"
   ]
  },
  {
   "cell_type": "code",
   "execution_count": 12,
   "metadata": {},
   "outputs": [],
   "source": [
    "import org.apache.spark.ml.feature.VectorAssembler;\n",
    "// identify the feature colunms\n",
    "        String[] inputColumns = {\"SepalLengthCm\", \"SepalWidthCm\", \"PetalLengthCm\", \"PetalWidthCm\"};\n",
    "        VectorAssembler assembler = new VectorAssembler().setInputCols(inputColumns).setOutputCol(\"features\");\n",
    "        Dataset<Row> featureSet = assembler.transform(transformedDataSet);"
   ]
  },
  {
   "cell_type": "markdown",
   "metadata": {},
   "source": [
    "### Division du jeu de données (Training & Test)"
   ]
  },
  {
   "cell_type": "code",
   "execution_count": 13,
   "metadata": {},
   "outputs": [],
   "source": [
    "// split data random in trainingset (70%) and testset (30%) using a seed so results can be reproduced\n",
    "        long seed = 5043;\n",
    "        Dataset<Row>[] trainingAndTestSet = featureSet.randomSplit(new double[]{0.7, 0.3}, seed);\n",
    "        Dataset<Row> trainingSet = trainingAndTestSet[0];\n",
    "        Dataset<Row> testSet = trainingAndTestSet[1];"
   ]
  },
  {
   "cell_type": "code",
   "execution_count": 14,
   "metadata": {},
   "outputs": [
    {
     "name": "stdout",
     "output_type": "stream",
     "text": [
      "+---+-------------+------------+-------------+------------+---------------+-----+-----------------+\n",
      "| Id|SepalLengthCm|SepalWidthCm|PetalLengthCm|PetalWidthCm|        Species|label|         features|\n",
      "+---+-------------+------------+-------------+------------+---------------+-----+-----------------+\n",
      "| 10|          4.9|         3.1|          1.5|         0.1|    Iris-setosa|    1|[4.9,3.1,1.5,0.1]|\n",
      "|100|          5.7|         2.8|          4.1|         1.3|Iris-versicolor|    2|[5.7,2.8,4.1,1.3]|\n",
      "|102|          5.8|         2.7|          5.1|         1.9| Iris-virginica|    3|[5.8,2.7,5.1,1.9]|\n",
      "|103|          7.1|         3.0|          5.9|         2.1| Iris-virginica|    3|[7.1,3.0,5.9,2.1]|\n",
      "|105|          6.5|         3.0|          5.8|         2.2| Iris-virginica|    3|[6.5,3.0,5.8,2.2]|\n",
      "+---+-------------+------------+-------------+------------+---------------+-----+-----------------+\n",
      "only showing top 5 rows\n",
      "\n"
     ]
    }
   ],
   "source": [
    "trainingSet.show(5)"
   ]
  },
  {
   "cell_type": "code",
   "execution_count": 15,
   "metadata": {},
   "outputs": [
    {
     "name": "stdout",
     "output_type": "stream",
     "text": [
      "+---+-------------+------------+-------------+------------+--------------+-----+-----------------+\n",
      "| Id|SepalLengthCm|SepalWidthCm|PetalLengthCm|PetalWidthCm|       Species|label|         features|\n",
      "+---+-------------+------------+-------------+------------+--------------+-----+-----------------+\n",
      "|  1|          5.1|         3.5|          1.4|         0.2|   Iris-setosa|    1|[5.1,3.5,1.4,0.2]|\n",
      "|101|          6.3|         3.3|          6.0|         2.5|Iris-virginica|    3|[6.3,3.3,6.0,2.5]|\n",
      "|104|          6.3|         2.9|          5.6|         1.8|Iris-virginica|    3|[6.3,2.9,5.6,1.8]|\n",
      "|107|          4.9|         2.5|          4.5|         1.7|Iris-virginica|    3|[4.9,2.5,4.5,1.7]|\n",
      "|120|          6.0|         2.2|          5.0|         1.5|Iris-virginica|    3|[6.0,2.2,5.0,1.5]|\n",
      "+---+-------------+------------+-------------+------------+--------------+-----+-----------------+\n",
      "only showing top 5 rows\n",
      "\n"
     ]
    }
   ],
   "source": [
    "testSet.show(5)"
   ]
  },
  {
   "cell_type": "markdown",
   "metadata": {},
   "source": [
    "### Entrainement avec l'aglorithme  Random Forest"
   ]
  },
  {
   "cell_type": "code",
   "execution_count": 31,
   "metadata": {},
   "outputs": [],
   "source": [
    "import org.apache.spark.ml.classification.RandomForestClassificationModel;\n",
    "import org.apache.spark.ml.classification.RandomForestClassifier;\n",
    "  // train the algorithm based on a Random Forest Classification Algorithm with default values\n",
    "         RandomForestClassifier randomForestClassifier = new RandomForestClassifier()\n",
    "                .setImpurity(\"gini\")\n",
    "                .setMaxDepth(3)\n",
    "                .setNumTrees(20)\n",
    "                .setFeatureSubsetStrategy(\"auto\")\n",
    "                .setSeed(seed);\n",
    "\n",
    "        RandomForestClassificationModel model = randomForestClassifier.fit(trainingSet);\n"
   ]
  },
  {
   "cell_type": "code",
   "execution_count": 30,
   "metadata": {},
   "outputs": [
    {
     "name": "stdout",
     "output_type": "stream",
     "text": [
      "RandomForestClassificationModel (uid=rfc_029fd82bb333) with 20 trees\n",
      "  Tree 0 (weight 1.0):\n",
      "    If (feature 3 <= 0.6)\n",
      "     Predict: 1.0\n",
      "    Else (feature 3 > 0.6)\n",
      "     If (feature 2 <= 4.8)\n",
      "      If (feature 3 <= 1.6)\n",
      "       Predict: 2.0\n",
      "      Else (feature 3 > 1.6)\n",
      "       Predict: 2.0\n",
      "     Else (feature 2 > 4.8)\n",
      "      If (feature 3 <= 1.6)\n",
      "       Predict: 3.0\n",
      "      Else (feature 3 > 1.6)\n",
      "       Predict: 3.0\n",
      "  Tree 1 (weight 1.0):\n",
      "    If (feature 3 <= 0.6)\n",
      "     Predict: 1.0\n",
      "    Else (feature 3 > 0.6)\n",
      "     If (feature 3 <= 1.7)\n",
      "      If (feature 2 <= 5.0)\n",
      "       Predict: 2.0\n",
      "      Else (feature 2 > 5.0)\n",
      "       Predict: 3.0\n",
      "     Else (feature 3 > 1.7)\n",
      "      If (feature 0 <= 5.9)\n",
      "       Predict: 3.0\n",
      "      Else (feature 0 > 5.9)\n",
      "       Predict: 3.0\n",
      "  Tree 2 (weight 1.0):\n",
      "    If (feature 3 <= 0.6)\n",
      "     Predict: 1.0\n",
      "    Else (feature 3 > 0.6)\n",
      "     If (feature 2 <= 4.8)\n",
      "      If (feature 2 <= 4.6)\n",
      "       Predict: 2.0\n",
      "      Else (feature 2 > 4.6)\n",
      "       Predict: 2.0\n",
      "     Else (feature 2 > 4.8)\n",
      "      If (feature 3 <= 1.7)\n",
      "       Predict: 3.0\n",
      "      Else (feature 3 > 1.7)\n",
      "       Predict: 3.0\n",
      "  Tree 3 (weight 1.0):\n",
      "    If (feature 2 <= 1.9)\n",
      "     Predict: 1.0\n",
      "    Else (feature 2 > 1.9)\n",
      "     If (feature 3 <= 1.7)\n",
      "      If (feature 0 <= 6.9)\n",
      "       Predict: 2.0\n",
      "      Else (feature 0 > 6.9)\n",
      "       Predict: 3.0\n",
      "     Else (feature 3 > 1.7)\n",
      "      If (feature 2 <= 4.8)\n",
      "       Predict: 3.0\n",
      "      Else (feature 2 > 4.8)\n",
      "       Predict: 3.0\n",
      "  Tree 4 (weight 1.0):\n",
      "    If (feature 2 <= 1.9)\n",
      "     Predict: 1.0\n",
      "    Else (feature 2 > 1.9)\n",
      "     If (feature 3 <= 1.7)\n",
      "      If (feature 3 <= 1.3)\n",
      "       Predict: 2.0\n",
      "      Else (feature 3 > 1.3)\n",
      "       Predict: 2.0\n",
      "     Else (feature 3 > 1.7)\n",
      "      Predict: 3.0\n",
      "  Tree 5 (weight 1.0):\n",
      "    If (feature 0 <= 5.4)\n",
      "     If (feature 2 <= 1.9)\n",
      "      Predict: 1.0\n",
      "     Else (feature 2 > 1.9)\n",
      "      Predict: 2.0\n",
      "    Else (feature 0 > 5.4)\n",
      "     If (feature 0 <= 6.3)\n",
      "      If (feature 3 <= 1.6)\n",
      "       Predict: 2.0\n",
      "      Else (feature 3 > 1.6)\n",
      "       Predict: 3.0\n",
      "     Else (feature 0 > 6.3)\n",
      "      If (feature 0 <= 7.0)\n",
      "       Predict: 3.0\n",
      "      Else (feature 0 > 7.0)\n",
      "       Predict: 3.0\n",
      "  Tree 6 (weight 1.0):\n",
      "    If (feature 2 <= 1.7)\n",
      "     Predict: 1.0\n",
      "    Else (feature 2 > 1.7)\n",
      "     If (feature 3 <= 1.7)\n",
      "      If (feature 1 <= 2.6)\n",
      "       Predict: 2.0\n",
      "      Else (feature 1 > 2.6)\n",
      "       Predict: 2.0\n",
      "     Else (feature 3 > 1.7)\n",
      "      If (feature 2 <= 4.8)\n",
      "       Predict: 2.0\n",
      "      Else (feature 2 > 4.8)\n",
      "       Predict: 3.0\n",
      "  Tree 7 (weight 1.0):\n",
      "    If (feature 0 <= 5.4)\n",
      "     If (feature 2 <= 1.9)\n",
      "      Predict: 1.0\n",
      "     Else (feature 2 > 1.9)\n",
      "      Predict: 2.0\n",
      "    Else (feature 0 > 5.4)\n",
      "     If (feature 3 <= 1.7)\n",
      "      If (feature 3 <= 0.3)\n",
      "       Predict: 1.0\n",
      "      Else (feature 3 > 0.3)\n",
      "       Predict: 2.0\n",
      "     Else (feature 3 > 1.7)\n",
      "      If (feature 2 <= 4.8)\n",
      "       Predict: 3.0\n",
      "      Else (feature 2 > 4.8)\n",
      "       Predict: 3.0\n",
      "  Tree 8 (weight 1.0):\n",
      "    If (feature 2 <= 4.9)\n",
      "     If (feature 2 <= 1.9)\n",
      "      Predict: 1.0\n",
      "     Else (feature 2 > 1.9)\n",
      "      If (feature 2 <= 4.6)\n",
      "       Predict: 2.0\n",
      "      Else (feature 2 > 4.6)\n",
      "       Predict: 2.0\n",
      "    Else (feature 2 > 4.9)\n",
      "     Predict: 3.0\n",
      "  Tree 9 (weight 1.0):\n",
      "    If (feature 0 <= 5.4)\n",
      "     If (feature 1 <= 2.3)\n",
      "      Predict: 2.0\n",
      "     Else (feature 1 > 2.3)\n",
      "      If (feature 3 <= 0.5)\n",
      "       Predict: 1.0\n",
      "      Else (feature 3 > 0.5)\n",
      "       Predict: 2.0\n",
      "    Else (feature 0 > 5.4)\n",
      "     If (feature 2 <= 4.9)\n",
      "      If (feature 3 <= 0.2)\n",
      "       Predict: 1.0\n",
      "      Else (feature 3 > 0.2)\n",
      "       Predict: 2.0\n",
      "     Else (feature 2 > 4.9)\n",
      "      If (feature 3 <= 1.6)\n",
      "       Predict: 2.0\n",
      "      Else (feature 3 > 1.6)\n",
      "       Predict: 3.0\n",
      "  Tree 10 (weight 1.0):\n",
      "    If (feature 2 <= 1.9)\n",
      "     Predict: 1.0\n",
      "    Else (feature 2 > 1.9)\n",
      "     If (feature 2 <= 4.8)\n",
      "      If (feature 2 <= 4.6)\n",
      "       Predict: 2.0\n",
      "      Else (feature 2 > 4.6)\n",
      "       Predict: 2.0\n",
      "     Else (feature 2 > 4.8)\n",
      "      If (feature 0 <= 6.0)\n",
      "       Predict: 3.0\n",
      "      Else (feature 0 > 6.0)\n",
      "       Predict: 3.0\n",
      "  Tree 11 (weight 1.0):\n",
      "    If (feature 2 <= 1.9)\n",
      "     Predict: 1.0\n",
      "    Else (feature 2 > 1.9)\n",
      "     If (feature 2 <= 4.9)\n",
      "      If (feature 3 <= 1.6)\n",
      "       Predict: 2.0\n",
      "      Else (feature 3 > 1.6)\n",
      "       Predict: 3.0\n",
      "     Else (feature 2 > 4.9)\n",
      "      Predict: 3.0\n",
      "  Tree 12 (weight 1.0):\n",
      "    If (feature 2 <= 4.9)\n",
      "     If (feature 0 <= 5.3)\n",
      "      If (feature 2 <= 1.6)\n",
      "       Predict: 1.0\n",
      "      Else (feature 2 > 1.6)\n",
      "       Predict: 2.0\n",
      "     Else (feature 0 > 5.3)\n",
      "      If (feature 3 <= 0.3)\n",
      "       Predict: 1.0\n",
      "      Else (feature 3 > 0.3)\n",
      "       Predict: 2.0\n",
      "    Else (feature 2 > 4.9)\n",
      "     Predict: 3.0\n",
      "  Tree 13 (weight 1.0):\n",
      "    If (feature 2 <= 4.8)\n",
      "     If (feature 3 <= 0.6)\n",
      "      Predict: 1.0\n",
      "     Else (feature 3 > 0.6)\n",
      "      If (feature 3 <= 1.5)\n",
      "       Predict: 2.0\n",
      "      Else (feature 3 > 1.5)\n",
      "       Predict: 2.0\n",
      "    Else (feature 2 > 4.8)\n",
      "     If (feature 3 <= 1.7)\n",
      "      If (feature 2 <= 5.1)\n",
      "       Predict: 2.0\n",
      "      Else (feature 2 > 5.1)\n",
      "       Predict: 3.0\n",
      "     Else (feature 3 > 1.7)\n",
      "      Predict: 3.0\n",
      "  Tree 14 (weight 1.0):\n",
      "    If (feature 3 <= 0.6)\n",
      "     Predict: 1.0\n",
      "    Else (feature 3 > 0.6)\n",
      "     If (feature 2 <= 4.8)\n",
      "      If (feature 2 <= 4.6)\n",
      "       Predict: 2.0\n",
      "      Else (feature 2 > 4.6)\n",
      "       Predict: 2.0\n",
      "     Else (feature 2 > 4.8)\n",
      "      If (feature 3 <= 1.7)\n",
      "       Predict: 3.0\n",
      "      Else (feature 3 > 1.7)\n",
      "       Predict: 3.0\n",
      "  Tree 15 (weight 1.0):\n",
      "    If (feature 2 <= 1.9)\n",
      "     Predict: 1.0\n",
      "    Else (feature 2 > 1.9)\n",
      "     If (feature 3 <= 1.7)\n",
      "      If (feature 2 <= 5.1)\n",
      "       Predict: 2.0\n",
      "      Else (feature 2 > 5.1)\n",
      "       Predict: 3.0\n",
      "     Else (feature 3 > 1.7)\n",
      "      Predict: 3.0\n",
      "  Tree 16 (weight 1.0):\n",
      "    If (feature 3 <= 0.6)\n",
      "     Predict: 1.0\n",
      "    Else (feature 3 > 0.6)\n",
      "     If (feature 3 <= 1.6)\n",
      "      If (feature 2 <= 4.9)\n",
      "       Predict: 2.0\n",
      "      Else (feature 2 > 4.9)\n",
      "       Predict: 3.0\n",
      "     Else (feature 3 > 1.6)\n",
      "      If (feature 0 <= 5.9)\n",
      "       Predict: 3.0\n",
      "      Else (feature 0 > 5.9)\n",
      "       Predict: 3.0\n",
      "  Tree 17 (weight 1.0):\n",
      "    If (feature 3 <= 0.6)\n",
      "     Predict: 1.0\n",
      "    Else (feature 3 > 0.6)\n",
      "     If (feature 3 <= 1.7)\n",
      "      If (feature 2 <= 5.1)\n",
      "       Predict: 2.0\n",
      "      Else (feature 2 > 5.1)\n",
      "       Predict: 3.0\n",
      "     Else (feature 3 > 1.7)\n",
      "      Predict: 3.0\n",
      "  Tree 18 (weight 1.0):\n",
      "    If (feature 3 <= 0.6)\n",
      "     Predict: 1.0\n",
      "    Else (feature 3 > 0.6)\n",
      "     If (feature 2 <= 5.0)\n",
      "      If (feature 3 <= 1.7)\n",
      "       Predict: 2.0\n",
      "      Else (feature 3 > 1.7)\n",
      "       Predict: 3.0\n",
      "     Else (feature 2 > 5.0)\n",
      "      If (feature 1 <= 2.7)\n",
      "       Predict: 2.0\n",
      "      Else (feature 1 > 2.7)\n",
      "       Predict: 3.0\n",
      "  Tree 19 (weight 1.0):\n",
      "    If (feature 2 <= 1.9)\n",
      "     Predict: 1.0\n",
      "    Else (feature 2 > 1.9)\n",
      "     If (feature 3 <= 1.7)\n",
      "      If (feature 2 <= 5.1)\n",
      "       Predict: 2.0\n",
      "      Else (feature 2 > 5.1)\n",
      "       Predict: 3.0\n",
      "     Else (feature 3 > 1.7)\n",
      "      If (feature 2 <= 4.8)\n",
      "       Predict: 3.0\n",
      "      Else (feature 2 > 4.8)\n",
      "       Predict: 3.0\n",
      "\n"
     ]
    }
   ],
   "source": [
    "System.out.println(model.toDebugString())"
   ]
  },
  {
   "cell_type": "markdown",
   "metadata": {},
   "source": [
    "### Test du modèle"
   ]
  },
  {
   "cell_type": "code",
   "execution_count": 23,
   "metadata": {},
   "outputs": [
    {
     "name": "stdout",
     "output_type": "stream",
     "text": [
      "+---+--------------+-----+----------+\n",
      "| id|       Species|label|prediction|\n",
      "+---+--------------+-----+----------+\n",
      "|  1|   Iris-setosa|    1|       1.0|\n",
      "|101|Iris-virginica|    3|       3.0|\n",
      "|104|Iris-virginica|    3|       3.0|\n",
      "|107|Iris-virginica|    3|       2.0|\n",
      "|120|Iris-virginica|    3|       2.0|\n",
      "+---+--------------+-----+----------+\n",
      "only showing top 5 rows\n",
      "\n"
     ]
    }
   ],
   "source": [
    "// test the model against the testset and show results\n",
    "        Dataset<Row> predictions = model.transform(testSet);\n",
    "        predictions.select(\"id\", \"Species\", \"label\", \"prediction\").show(5);"
   ]
  },
  {
   "cell_type": "markdown",
   "metadata": {},
   "source": [
    "### Evaluation"
   ]
  },
  {
   "cell_type": "code",
   "execution_count": 24,
   "metadata": {},
   "outputs": [],
   "source": [
    "import org.apache.spark.ml.evaluation.MulticlassClassificationEvaluator;\n",
    "        // evaluate the model\n",
    "        MulticlassClassificationEvaluator evaluator = new MulticlassClassificationEvaluator()\n",
    "                .setLabelCol(\"label\")\n",
    "                .setPredictionCol(\"prediction\")\n",
    "                .setMetricName(\"accuracy\");"
   ]
  },
  {
   "cell_type": "markdown",
   "metadata": {},
   "source": [
    "### Précision du modèle"
   ]
  },
  {
   "cell_type": "code",
   "execution_count": 25,
   "metadata": {},
   "outputs": [
    {
     "name": "stdout",
     "output_type": "stream",
     "text": [
      "accuracy: 0.9393939393939394\n"
     ]
    }
   ],
   "source": [
    "System.out.println(\"accuracy: \" + evaluator.evaluate(predictions));"
   ]
  },
  {
   "cell_type": "markdown",
   "metadata": {},
   "source": [
    "### Sauvegarde du modèle"
   ]
  },
  {
   "cell_type": "code",
   "execution_count": 20,
   "metadata": {},
   "outputs": [],
   "source": [
    "model.save(\"model/iris-random-forest\")"
   ]
  },
  {
   "cell_type": "markdown",
   "metadata": {},
   "source": [
    "### Utilisation du modèle"
   ]
  },
  {
   "cell_type": "code",
   "execution_count": 55,
   "metadata": {},
   "outputs": [
    {
     "name": "stdout",
     "output_type": "stream",
     "text": [
      "3.0\n"
     ]
    }
   ],
   "source": [
    "import org.apache.spark.ml.linalg.Vector;\n",
    "import org.apache.spark.mllib.linalg.Vectors;\n",
    "\n",
    "//chargement du modèle\n",
    "RandomForestClassificationModel model_loaded = RandomForestClassificationModel.load(\"model/iris-random-forest\");\n",
    "\n",
    "//prédiction avec un exemple \n",
    "Double predicted_value = model_loaded.predict(Vectors.dense(new double[] {6.5, 3.0, 5.8, 2.2}).asML());;\n",
    "\n",
    "/*Iris-setosa 1\n",
    "Iris-versicolor 2\n",
    "Iris-virginica 3 */\n",
    "System.out.println(predicted_value);\n"
   ]
  },
  {
   "cell_type": "code",
   "execution_count": null,
   "metadata": {},
   "outputs": [],
   "source": []
  }
 ],
 "metadata": {
  "kernelspec": {
   "display_name": "Java",
   "language": "java",
   "name": "java"
  },
  "language_info": {
   "codemirror_mode": "java",
   "file_extension": ".jshell",
   "mimetype": "text/x-java-source",
   "name": "Java",
   "pygments_lexer": "java",
   "version": "11.0.5+10-post-Ubuntu-0ubuntu1.118.04"
  }
 },
 "nbformat": 4,
 "nbformat_minor": 2
}
